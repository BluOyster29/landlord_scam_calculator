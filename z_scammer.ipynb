{
 "cells": [
  {
   "cell_type": "markdown",
   "metadata": {},
   "source": [
    "## variables "
   ]
  },
  {
   "cell_type": "code",
   "execution_count": 40,
   "metadata": {},
   "outputs": [],
   "source": [
    "data = {\n",
    "        #total_price of appartment kr\n",
    "        'base_cost_appartment' : 10834,\n",
    "\n",
    "        #room sizes m2\n",
    "        'total_sm' : 85, #total square meters\n",
    "        'v_rum' : 9, \n",
    "        'o_rum' : 9, \n",
    "        'r_rum' : 6, \n",
    "        'a_rum' : 6, \n",
    "        'z_rum' : 12,        \n",
    "        'common_space' : 43, #common space m2\n",
    "\n",
    "        # split common space\n",
    "        'common_space_per_hm' : 43 / 5,\n",
    "\n",
    "        #furniture\n",
    "        'furniture' : 0.15,\n",
    "\n",
    "        #sgsprice on website\n",
    "        'sgs_price' : 10279,\n",
    "\n",
    "        # total split space \n",
    "        'total_shared_space' : 85 / 6,\n",
    "\n",
    "        ## what we've actually been paying for 5 months\n",
    "        'r_actually_paid' : 2500,\n",
    "        'a_actually_paid' : 2500,\n",
    "        'o_actually_paid' : 2500,\n",
    "        'v_actually_paid' : 2500,\n",
    "        'z_actually_paid' : 834,\n",
    "    }"
   ]
  },
  {
   "cell_type": "code",
   "execution_count": 11,
   "metadata": {
    "code_folding": []
   },
   "outputs": [],
   "source": [
    "def rent_calculator(tenant, room_size, common_space, total_space):\n",
    "    \n",
    "    total = (room_size + common_space) / total_space\n",
    "    \n",
    "    print('\\n{} pays {}% of total rent\\n'.format(tenant, int(total * 100)))\n",
    "    \n",
    "    return total"
   ]
  },
  {
   "cell_type": "code",
   "execution_count": 12,
   "metadata": {
    "code_folding": []
   },
   "outputs": [],
   "source": [
    "def get_rent(tenant, percentage, price_app, furniture, common_price):\n",
    "    \n",
    "    rent = int(percentage * price_app)\n",
    "    \n",
    "    print('\\n{} is responsible for {}% of the appartment'.format(tenant,(int(percentage * 100))))\n",
    "\n",
    "    if furniture == 0:\n",
    "        print('Assuming the rent only includes common space furnishings')\n",
    "        \n",
    "        rent += common_price\n",
    "        \n",
    "    elif furniture == 1:\n",
    "        print('Assuming the rent includes furnishings from bedrooms as well')\n",
    "        rent += (rent * 0.15)\n",
    "    \n",
    "    print('{} pays {}kr a month\\n'.format(tenant, int(rent)))\n",
    "    \n",
    "    return rent"
   ]
  },
  {
   "cell_type": "code",
   "execution_count": 43,
   "metadata": {},
   "outputs": [],
   "source": [
    "def calc_common(common_price, add_furniture):\n",
    "    \n",
    "    if add_furniture:\n",
    "        total = common_price / 5\n",
    "        total = total + (total * 0.15)\n",
    "        \n",
    "    else:\n",
    "        total = common_price / 5\n",
    "        \n",
    "    print('Total common space price per housemane: {}kr'.format(int(total)))\n",
    "    print('Furniture fee per housemate: {}'.format(int(total * 0.15)))\n",
    "    \n",
    "    return total * 0.15"
   ]
  },
  {
   "cell_type": "code",
   "execution_count": 47,
   "metadata": {
    "code_folding": []
   },
   "outputs": [],
   "source": [
    "def months_paid(tenant, months, rent, actually_paid):\n",
    "    total_rent = rent * months\n",
    "    total_bad_rent = actually_paid * months\n",
    "    \n",
    "    ziggy_owes = total_bad_rent - total_rent\n",
    "    print('\\n{} has paid {} months of rent'.format(tenant, months))\n",
    "    print('{} has paid {}'.format(tenant, total_bad_rent))\n",
    "    print('This is {} more than they should have paid'.format(ziggy_owes))\n",
    "    print('Z owes {}: {}kr\\n'.format(tenant, ziggy_owes))\n",
    "    \n",
    "    return total_rent, total_bad_rent"
   ]
  },
  {
   "cell_type": "markdown",
   "metadata": {},
   "source": [
    "## Percent of Appartment"
   ]
  },
  {
   "cell_type": "code",
   "execution_count": 19,
   "metadata": {},
   "outputs": [
    {
     "name": "stdout",
     "output_type": "stream",
     "text": [
      "\n",
      "R pays 17% of total rent\n",
      "\n",
      "\n",
      "A pays 17% of total rent\n",
      "\n",
      "\n",
      "Z pays 20% of total rent\n",
      "\n",
      "\n",
      "V pays 20% of total rent\n",
      "\n",
      "\n",
      "Z pays 24% of total rent\n",
      "\n"
     ]
    }
   ],
   "source": [
    "a = rent_calculator('A', data['a_rum'], data['common_space_per_hm'],  data['total_sm'])\n",
    "o = rent_calculator('Z', data['o_rum'], data['common_space_per_hm'], data['total_sm'])\n",
    "v = rent_calculator('V', data['v_rum'], data['common_space_per_hm'],  data['total_sm'])\n",
    "z = rent_calculator('Z', data['z_rum'], data['common_space_per_hm'],  data['total_sm'])"
   ]
  },
  {
   "cell_type": "markdown",
   "metadata": {},
   "source": [
    "## Common Space\n",
    "\n",
    "The common space makes up around 50 percent of the total rent"
   ]
  },
  {
   "cell_type": "code",
   "execution_count": 20,
   "metadata": {},
   "outputs": [
    {
     "name": "stdout",
     "output_type": "stream",
     "text": [
      "\n",
      "Common Space pays 50% of total rent\n",
      "\n"
     ]
    }
   ],
   "source": [
    "common = rent_calculator('Common Space', data['common_space'], 0, data['total_sm'])"
   ]
  },
  {
   "cell_type": "markdown",
   "metadata": {},
   "source": [
    "## Rent Should Paid"
   ]
  },
  {
   "cell_type": "markdown",
   "metadata": {},
   "source": [
    "Args:\n",
    "    `Tenant` : Name of tenant\n",
    "    `Percentage`: Percentange of rent paid by Tenant\n",
    "    `Cost of Appartment`: Total cost of appartment\n",
    "    "
   ]
  },
  {
   "cell_type": "code",
   "execution_count": 41,
   "metadata": {},
   "outputs": [
    {
     "name": "stdout",
     "output_type": "stream",
     "text": [
      "\n",
      "R is responsible for 17% of the appartment\n",
      "Assuming the rent includes furnishings from bedrooms as well\n",
      "R pays 2139kr a month\n",
      "\n",
      "\n",
      "A is responsible for 17% of the appartment\n",
      "Assuming the rent includes furnishings from bedrooms as well\n",
      "A pays 2139kr a month\n",
      "\n",
      "\n",
      "O is responsible for 20% of the appartment\n",
      "Assuming the rent includes furnishings from bedrooms as well\n",
      "O pays 2579kr a month\n",
      "\n",
      "\n",
      "Z is responsible for 24% of the appartment\n",
      "Assuming the rent includes furnishings from bedrooms as well\n",
      "Z pays 3018kr a month\n",
      "\n",
      "\n",
      "V is responsible for 20% of the appartment\n",
      "Assuming the rent includes furnishings from bedrooms as well\n",
      "V pays 2579kr a month\n",
      "\n"
     ]
    }
   ],
   "source": [
    "r_rent = get_rent('R', r, data['base_cost_appartment'], 1, common)\n",
    "a_rent = get_rent('A', a, data['base_cost_appartment'], 1, common)\n",
    "o_rent = get_rent('O', o, data['base_cost_appartment'], 1, common)\n",
    "z_rent = get_rent('Z', z, data['base_cost_appartment'], 1, common)\n",
    "v_rent = get_rent('V', v, data['base_cost_appartment'], 1, common)"
   ]
  },
  {
   "cell_type": "markdown",
   "metadata": {},
   "source": [
    "### Common Space Rent\n",
    "The total amount of kronor that goes the the common space a month is below divided by 5"
   ]
  },
  {
   "cell_type": "code",
   "execution_count": 42,
   "metadata": {},
   "outputs": [
    {
     "name": "stdout",
     "output_type": "stream",
     "text": [
      "\n",
      "Common Space is responsible for 50% of the appartment\n",
      "Assuming the rent only includes common space furnishings\n",
      "Common Space pays 5480kr a month\n",
      "\n"
     ]
    }
   ],
   "source": [
    "common_price = get_rent('Common Space', common, data['base_cost_appartment'], 0, common)"
   ]
  },
  {
   "cell_type": "code",
   "execution_count": 44,
   "metadata": {},
   "outputs": [
    {
     "name": "stdout",
     "output_type": "stream",
     "text": [
      "Total common space price per housemane: 1096kr\n",
      "Furniture fee per housemate: 164\n"
     ]
    }
   ],
   "source": [
    "common_per_housemate = calc_common(common_price, add_furniture=False)"
   ]
  },
  {
   "cell_type": "markdown",
   "metadata": {},
   "source": [
    "## Rent Actually Paid"
   ]
  },
  {
   "cell_type": "code",
   "execution_count": 48,
   "metadata": {},
   "outputs": [
    {
     "name": "stdout",
     "output_type": "stream",
     "text": [
      "\n",
      "R has paid 5 months of rent\n",
      "R has paid 12500\n",
      "This is 1805.0 more than they should have paid\n",
      "Z owes R: 1805.0kr\n",
      "\n"
     ]
    }
   ],
   "source": [
    "r_actually = months_paid('R', 5, r_rent, data['r_actually_paid'])"
   ]
  },
  {
   "cell_type": "code",
   "execution_count": 51,
   "metadata": {},
   "outputs": [
    {
     "name": "stdout",
     "output_type": "stream",
     "text": [
      "\n",
      "A has paid 5 months of rent\n",
      "A has paid 12500\n",
      "This is 1805.0 more than they should have paid\n",
      "Z owes A: 1805.0kr\n",
      "\n"
     ]
    }
   ],
   "source": [
    "a_actually = months_paid('A', 5, r_rent, data['a_actually_paid'])"
   ]
  },
  {
   "cell_type": "code",
   "execution_count": 52,
   "metadata": {},
   "outputs": [],
   "source": [
    "#rob_and_ana = months_paid('A and R', 5, rob_and_ana, (rob_actually_paid + ana_actually_paid))"
   ]
  },
  {
   "cell_type": "code",
   "execution_count": 54,
   "metadata": {},
   "outputs": [
    {
     "name": "stdout",
     "output_type": "stream",
     "text": [
      "\n",
      "O has paid 5 months of rent\n",
      "O has paid 12500\n",
      "This is -397.25 more than they should have paid\n",
      "Z owes O: -397.25kr\n",
      "\n"
     ]
    }
   ],
   "source": [
    "o_actually = months_paid('O', 5, o_rent, data['o_actually_paid'])"
   ]
  },
  {
   "cell_type": "code",
   "execution_count": 55,
   "metadata": {},
   "outputs": [
    {
     "name": "stdout",
     "output_type": "stream",
     "text": [
      "\n",
      "Z has paid 5 months of rent\n",
      "Z has paid 4170\n",
      "This is -10923.75 more than they should have paid\n",
      "Z owes Z: -10923.75kr\n",
      "\n"
     ]
    }
   ],
   "source": [
    "z_actually = months_paid('Z', 5, z_rent, data['z_actually_paid'])"
   ]
  },
  {
   "cell_type": "markdown",
   "metadata": {},
   "source": [
    "## Next month"
   ]
  },
  {
   "cell_type": "code",
   "execution_count": 418,
   "metadata": {},
   "outputs": [],
   "source": [
    "next_month_should_pay = rob_rent * 2"
   ]
  },
  {
   "cell_type": "code",
   "execution_count": null,
   "metadata": {},
   "outputs": [],
   "source": []
  }
 ],
 "metadata": {
  "kernelspec": {
   "display_name": "Python 3",
   "language": "python",
   "name": "python3"
  },
  "language_info": {
   "codemirror_mode": {
    "name": "ipython",
    "version": 3
   },
   "file_extension": ".py",
   "mimetype": "text/x-python",
   "name": "python",
   "nbconvert_exporter": "python",
   "pygments_lexer": "ipython3",
   "version": "3.7.4"
  },
  "toc": {
   "base_numbering": 1,
   "nav_menu": {},
   "number_sections": true,
   "sideBar": true,
   "skip_h1_title": false,
   "title_cell": "Table of Contents",
   "title_sidebar": "Contents",
   "toc_cell": false,
   "toc_position": {},
   "toc_section_display": true,
   "toc_window_display": false
  }
 },
 "nbformat": 4,
 "nbformat_minor": 2
}
